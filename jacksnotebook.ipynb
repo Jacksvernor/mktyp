{
 "cells": [
  {
   "cell_type": "markdown",
   "metadata": {},
   "source": [
    "# MKTYP ~~ Jack's Notebook "
   ]
  },
  {
   "cell_type": "code",
   "execution_count": 2,
   "metadata": {},
   "outputs": [
    {
     "name": "stdout",
     "output_type": "stream",
     "text": [
      "Happy Birthday1\n",
      "Happy Birthday2\n",
      "Happy Birthday3\n",
      "Happy Birthday4\n",
      "Happy Birthday5\n",
      "Happy Birthday6\n",
      "Happy Birthday7\n",
      "Happy Birthday8\n",
      "Happy Birthday9\n",
      "Happy Birthday10\n",
      "Happy Birthday11\n",
      "Happy Birthday12\n",
      "Happy Birthday13\n",
      "Happy Birthday14\n",
      "Happy Birthday15\n",
      "Happy Birthday16\n",
      "Happy Birthday17\n",
      "Happy Birthday18\n",
      "Happy Birthday19\n"
     ]
    }
   ],
   "source": [
    "i=1 \n",
    "while (i<=19):\n",
    "    print(\"Happy Birthday\"+str(i))\n",
    "    i=i+1"
   ]
  },
  {
   "cell_type": "code",
   "execution_count": null,
   "metadata": {
    "scrolled": true
   },
   "outputs": [],
   "source": [
    "print(\"MPH to FPS\")\n",
    "mph = int(input(\"Enter miles per hours\"))\n",
    "fps = mph*5280/3600\n",
    "print(\"Your speed in FPS IS\"+str(fps));"
   ]
  },
  {
   "cell_type": "code",
   "execution_count": 2,
   "metadata": {},
   "outputs": [
    {
     "name": "stdout",
     "output_type": "stream",
     "text": [
      "I am going to convert inches to meters\n",
      "INCH to METER Calculator\n",
      "ENTER a Height in inches:78\n",
      "you are1.981200002020824 meters\n"
     ]
    }
   ],
   "source": [
    "print(\"I am going to convert inches to meters\")\n",
    "\n",
    "def inch2meter (d):\n",
    "    return d/39.3700787\n",
    "\n",
    "print(\"INCH to METER Calculator\")\n",
    "d=float(input(\"ENTER a Height in inches:\"))\n",
    "meter=inch2meter(d)\n",
    "print(\"you are\" +str(meter)+\" meters\")"
   ]
  },
  {
   "cell_type": "code",
   "execution_count": 3,
   "metadata": {},
   "outputs": [
    {
     "name": "stdout",
     "output_type": "stream",
     "text": [
      "I am finding the area of a triangle\n",
      "calculator of triangleArea\n",
      "what is the value of a12\n",
      "what is the value of b15\n",
      "what is value of c18\n",
      "area of triangle is89.29410674842993\n"
     ]
    }
   ],
   "source": [
    "print(\"I am finding the area of a triangle\")\n",
    "import math\n",
    "def triangleArea(a,b,c):\n",
    "     s=(a+b+c)/2\n",
    "     a=math.sqrt(s*(s-a)*(s-b)*(s-c))\n",
    "     return a\n",
    "print(\"calculator of triangleArea\")\n",
    "a=float(input(\"what is the value of a\"))\n",
    "b=float(input(\"what is the value of b\"))\n",
    "c=float(input(\"what is value of c\"))\n",
    "s=triangleArea(a,b,c)\n",
    "print(\"area of triangle is\"+str(s))\n"
   ]
  },
  {
   "cell_type": "code",
   "execution_count": null,
   "metadata": {},
   "outputs": [],
   "source": []
  }
 ],
 "metadata": {
  "kernelspec": {
   "display_name": "Python 3",
   "language": "python",
   "name": "python3"
  },
  "language_info": {
   "codemirror_mode": {
    "name": "ipython",
    "version": 3
   },
   "file_extension": ".py",
   "mimetype": "text/x-python",
   "name": "python",
   "nbconvert_exporter": "python",
   "pygments_lexer": "ipython3",
   "version": "3.7.0"
  }
 },
 "nbformat": 4,
 "nbformat_minor": 2
}
